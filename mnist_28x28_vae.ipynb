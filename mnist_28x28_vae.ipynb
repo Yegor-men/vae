{
 "cells": [
  {
   "cell_type": "code",
   "id": "initial_id",
   "metadata": {
    "collapsed": true,
    "ExecuteTime": {
     "end_time": "2025-02-08T11:22:18.515932Z",
     "start_time": "2025-02-08T11:22:18.513711Z"
    }
   },
   "source": [
    "import torch\n",
    "\n",
    "# device = torch.device(\"cuda\" if torch.cuda.is_available() else \"cpu\")\n",
    "\n",
    "torch.set_default_device(torch.device(\"cuda\" if torch.cuda.is_available() else \"cpu\"))"
   ],
   "outputs": [],
   "execution_count": 132
  },
  {
   "metadata": {
    "ExecuteTime": {
     "end_time": "2025-02-08T11:22:18.562203Z",
     "start_time": "2025-02-08T11:22:18.558158Z"
    }
   },
   "cell_type": "code",
   "source": [
    "import torch\n",
    "from torch import nn\n",
    "\n",
    "\n",
    "class Encoder(nn.Module):\n",
    "    def __init__(self, hidden_channels: int) -> None:\n",
    "        super().__init__()\n",
    "\n",
    "        self.lrelu = nn.LeakyReLU()\n",
    "\n",
    "        self.block1 = nn.Sequential(\n",
    "            nn.Conv2d(in_channels=1, out_channels=32, kernel_size=4, stride=2, padding=0),\n",
    "            self.lrelu\n",
    "        )\n",
    "        self.block2 = nn.Sequential(\n",
    "            nn.Conv2d(in_channels=32, out_channels=64, kernel_size=2, stride=2, padding=0),\n",
    "            self.lrelu\n",
    "        )\n",
    "        self.block3 = nn.Sequential(\n",
    "            nn.Conv2d(in_channels=64, out_channels=hidden_channels, kernel_size=1, stride=1, padding=0),\n",
    "            self.lrelu\n",
    "        )\n",
    "\n",
    "    def forward(self, x: torch.Tensor) -> torch.Tensor:\n",
    "        x = self.block1(x)\n",
    "        print(f\"enc block 1: {x.size()}\")\n",
    "        x = self.block2(x)\n",
    "        print(f\"enc block 2: {x.size()}\",end=\"\\n\\n\")\n",
    "        x = self.block3(x)\n",
    "        print(f\"latent space: {x.size()}\", end=\"\\n\\n\")\n",
    "        return x"
   ],
   "id": "effa44da2f785295",
   "outputs": [],
   "execution_count": 133
  },
  {
   "metadata": {
    "ExecuteTime": {
     "end_time": "2025-02-08T11:22:18.608864Z",
     "start_time": "2025-02-08T11:22:18.604915Z"
    }
   },
   "cell_type": "code",
   "source": [
    "import torch\n",
    "from torch import nn\n",
    "\n",
    "\n",
    "class Decoder(nn.Module):\n",
    "    def __init__(self, hidden_channels: int) -> None:\n",
    "        super().__init__()\n",
    "\n",
    "        self.lrelu = nn.LeakyReLU()\n",
    "\n",
    "        self.block1 = nn.Sequential(\n",
    "            nn.ConvTranspose2d(in_channels=hidden_channels, out_channels=64, kernel_size=1, stride=1, padding=0),\n",
    "            self.lrelu\n",
    "        )\n",
    "        self.block2 = nn.Sequential(\n",
    "            nn.ConvTranspose2d(in_channels=64, out_channels=32, kernel_size=2, stride=2, padding=0),\n",
    "            self.lrelu\n",
    "        )\n",
    "        self.block3 = nn.Sequential(\n",
    "            nn.ConvTranspose2d(in_channels=32, out_channels=1, kernel_size=4, stride=2, padding=0),\n",
    "        )\n",
    "\n",
    "    def forward(self, x: torch.Tensor) -> torch.Tensor:\n",
    "        x = self.block1(x)\n",
    "        print(f\"dec block 1: {x.size()}\")\n",
    "        x = self.block2(x)\n",
    "        print(f\"dec block 2: {x.size()}\")\n",
    "        x = self.block3(x)\n",
    "        print(f\"post dec: {x.size()}\")\n",
    "        return x"
   ],
   "id": "ad6cf760de42f913",
   "outputs": [],
   "execution_count": 134
  },
  {
   "metadata": {
    "ExecuteTime": {
     "end_time": "2025-02-08T11:22:18.656664Z",
     "start_time": "2025-02-08T11:22:18.652152Z"
    }
   },
   "cell_type": "code",
   "source": [
    "import torch\n",
    "from torch import nn\n",
    "\n",
    "\n",
    "class VAE(nn.Module):\n",
    "    def __init__(self, hidden_channels) -> None:\n",
    "        super().__init__()\n",
    "        self.encoder = Encoder(hidden_channels)\n",
    "        self.decoder = Decoder(hidden_channels)\n",
    "\n",
    "    def forward(self, x: torch.Tensor) -> torch.Tensor:\n",
    "        x = self.encoder(x)\n",
    "        x = self.decoder(x)\n",
    "        return x\n",
    "\n",
    "\n",
    "model = VAE(hidden_channels=2)"
   ],
   "id": "42f068beb016c29b",
   "outputs": [],
   "execution_count": 135
  },
  {
   "metadata": {
    "ExecuteTime": {
     "end_time": "2025-02-08T11:22:18.701386Z",
     "start_time": "2025-02-08T11:22:18.697937Z"
    }
   },
   "cell_type": "code",
   "source": [
    "foo = torch.randn(28, 28)\n",
    "foo = foo.unsqueeze(0)\n",
    "print(f\"pre enc:{foo.size()}\")\n",
    "foo = model(foo)"
   ],
   "id": "8a87c9d49dcdf0b0",
   "outputs": [
    {
     "name": "stdout",
     "output_type": "stream",
     "text": [
      "pre enc:torch.Size([1, 28, 28])\n",
      "enc block 1: torch.Size([32, 13, 13])\n",
      "enc block 2: torch.Size([64, 6, 6])\n",
      "\n",
      "latent space: torch.Size([2, 6, 6])\n",
      "\n",
      "dec block 1: torch.Size([64, 6, 6])\n",
      "dec block 2: torch.Size([32, 12, 12])\n",
      "post dec: torch.Size([1, 26, 26])\n"
     ]
    }
   ],
   "execution_count": 136
  }
 ],
 "metadata": {
  "kernelspec": {
   "display_name": "Python 3",
   "language": "python",
   "name": "python3"
  },
  "language_info": {
   "codemirror_mode": {
    "name": "ipython",
    "version": 2
   },
   "file_extension": ".py",
   "mimetype": "text/x-python",
   "name": "python",
   "nbconvert_exporter": "python",
   "pygments_lexer": "ipython2",
   "version": "2.7.6"
  }
 },
 "nbformat": 4,
 "nbformat_minor": 5
}
