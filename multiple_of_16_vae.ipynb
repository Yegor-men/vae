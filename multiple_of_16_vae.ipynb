{
 "cells": [
  {
   "metadata": {},
   "cell_type": "code",
   "source": [
    "import torch\n",
    "\n",
    "from torch import nn\n",
    "\n",
    "device = torch.device(\"cuda\" if torch.cuda.is_available() else \"cpu\")"
   ],
   "id": "3aa70ae96b014591",
   "outputs": [],
   "execution_count": null
  },
  {
   "metadata": {},
   "cell_type": "code",
   "source": [
    "class Encoder(nn.Module):\n",
    "    def __init__(self, hidden_channels:int) -> None:\n",
    "        super().__init__()\n",
    "\n",
    "        self.lrelu = nn.LeakyReLU()\n",
    "\n",
    "        self.block1 = nn.Sequential(\n",
    "            nn.Conv2d(in_channels=3, out_channels=32, kernel_size=4, stride=2, padding=1),\n",
    "            self.lrelu\n",
    "        )\n",
    "        self.block2 = nn.Sequential(\n",
    "            nn.Conv2d(in_channels=32, out_channels=64, kernel_size=4, stride=2, padding=1),\n",
    "            self.lrelu\n",
    "        )\n",
    "        self.block3 = nn.Sequential(\n",
    "            nn.Conv2d(in_channels=64, out_channels=128, kernel_size=2, stride=2, padding=0),\n",
    "            self.lrelu\n",
    "        )\n",
    "        self.block4 = nn.Sequential(\n",
    "            nn.Conv2d(in_channels=128, out_channels=256, kernel_size=2, stride=2, padding=0),\n",
    "            self.lrelu\n",
    "        )\n",
    "        self.block5 = nn.Sequential(\n",
    "            nn.Conv2d(in_channels=256, out_channels=hidden_channels, kernel_size=1, stride=1, padding=0)\n",
    "        )\n",
    "\n",
    "    def forward(self, x: torch.Tensor) -> torch.Tensor:\n",
    "        x = self.block1(x)\n",
    "        print(f\"{x.size()}\")\n",
    "        x = self.block2(x)\n",
    "        print(f\"{x.size()}\")\n",
    "        x = self.block3(x)\n",
    "        print(f\"{x.size()}\")\n",
    "        x = self.block4(x)\n",
    "        print(f\"{x.size()}\")\n",
    "        x = self.block5(x)\n",
    "        print(f\"{x.size()}\", end=\"\\n\\n\")\n",
    "        return x"
   ],
   "id": "3288c77c7c8953c4",
   "outputs": [],
   "execution_count": null
  },
  {
   "metadata": {},
   "cell_type": "code",
   "source": [
    "class Decoder(nn.Module):\n",
    "    def __init__(self, hidden_channels):\n",
    "        super().__init__()\n",
    "\n",
    "        self.lrelu = nn.LeakyReLU()\n",
    "\n",
    "        self.block1 = nn.Sequential(\n",
    "            nn.ConvTranspose2d(in_channels=hidden_channels, out_channels=256, kernel_size=1, stride=1, padding=0),\n",
    "            self.lrelu,\n",
    "        )\n",
    "        self.block2 = nn.Sequential(\n",
    "            nn.ConvTranspose2d(in_channels=256, out_channels=128, kernel_size=2, stride=2, padding=0),\n",
    "            self.lrelu,\n",
    "        )\n",
    "        self.block3 = nn.Sequential(\n",
    "            nn.ConvTranspose2d(in_channels=128, out_channels=64, kernel_size=2, stride=2, padding=0),\n",
    "            self.lrelu,\n",
    "        )\n",
    "        self.block4 = nn.Sequential(\n",
    "            nn.ConvTranspose2d(in_channels=64, out_channels=32, kernel_size=4, stride=2, padding=1),\n",
    "            self.lrelu,\n",
    "        )\n",
    "        self.block5 = nn.Sequential(\n",
    "            nn.ConvTranspose2d(in_channels=32, out_channels=3, kernel_size=4, stride=2, padding=1),\n",
    "        )\n",
    "\n",
    "    def forward(self, x):\n",
    "        x = self.block1(x)\n",
    "        print(f\"{x.size()}\")\n",
    "        x = self.block2(x)\n",
    "        print(f\"{x.size()}\")\n",
    "        x = self.block3(x)\n",
    "        print(f\"{x.size()}\")\n",
    "        x = self.block4(x)\n",
    "        print(f\"{x.size()}\")\n",
    "        x = self.block5(x)\n",
    "        print(f\"{x.size()}\")\n",
    "        return x"
   ],
   "id": "c1b55ff80e3b6ecf",
   "outputs": [],
   "execution_count": null
  },
  {
   "metadata": {},
   "cell_type": "code",
   "source": [
    "class VAE(nn.Module):\n",
    "    def __init__(self, hidden_channels: int) -> None:\n",
    "        super().__init__()\n",
    "        self.encode = Encoder(hidden_channels)\n",
    "        self.decode = Decoder(hidden_channels)\n",
    "\n",
    "    def forward(self, x: torch.Tensor) -> torch.Tensor:\n",
    "        x = self.encode(x)\n",
    "        x = self.decode(x)\n",
    "        return x"
   ],
   "id": "e0e00c9497cce7d5",
   "outputs": [],
   "execution_count": null
  },
  {
   "metadata": {},
   "cell_type": "code",
   "source": [
    "import torch\n",
    "import torch.nn.functional as function\n",
    "\n",
    "\n",
    "def resize_to_multiple_of_16(tensor: torch.Tensor, mode=\"bicubic\") -> torch.Tensor:\n",
    "    \"\"\"\n",
    "    Resizes tensor (N, C, H, W) or (C, H, W) such that H and W are multiples of 16.\n",
    "    :param tensor: tensor to resize\n",
    "    :param mode: rescale mode\n",
    "    :return: resized tensor\n",
    "    \"\"\"\n",
    "    orig_h, orig_w = tensor.shape[-2], tensor.shape[-1]\n",
    "\n",
    "    new_h = round(orig_h / 16) * 16\n",
    "    new_w = round(orig_w / 16) * 16\n",
    "\n",
    "    if tensor.ndim == 3:  # (C, H, W)\n",
    "        tensor = tensor.unsqueeze(0)  # Add batch dim -> (1, C, H, W)\n",
    "        resized = function.interpolate(tensor, size=(new_h, new_w), mode=mode, align_corners=False)\n",
    "        resized = resized.squeeze(0)  # Remove batch dim -> (C, H, W)\n",
    "    else:  # (N, C, H, W)\n",
    "        resized = function.interpolate(tensor, size=(new_h, new_w), mode=mode, align_corners=False)\n",
    "\n",
    "    return resized"
   ],
   "id": "b9a783430f25c7ac",
   "outputs": [],
   "execution_count": null
  },
  {
   "metadata": {
    "ExecuteTime": {
     "end_time": "2025-02-09T10:15:41.752614Z",
     "start_time": "2025-02-09T10:15:41.482112Z"
    }
   },
   "cell_type": "code",
   "source": [
    "test_model = VAE(hidden_channels=16)\n",
    "\n",
    "test_tensor = torch.randn(1, 3, 1920, 1080)\n",
    "resized_tensor = resize_to_multiple_of_16(test_tensor)\n",
    "print(resized_tensor.shape, end=\"\\n\\n\")\n",
    "out_tensor = test_model(resized_tensor)\n",
    "# print(out_tensor.shape)"
   ],
   "id": "42a9fa57f4c3adc0",
   "outputs": [
    {
     "name": "stdout",
     "output_type": "stream",
     "text": [
      "torch.Size([1, 3, 1920, 1088])\n",
      "\n",
      "torch.Size([1, 32, 960, 544])\n",
      "torch.Size([1, 64, 480, 272])\n",
      "torch.Size([1, 128, 240, 136])\n",
      "torch.Size([1, 256, 120, 68])\n",
      "torch.Size([1, 16, 120, 68])\n",
      "\n",
      "torch.Size([1, 256, 120, 68])\n",
      "torch.Size([1, 128, 240, 136])\n",
      "torch.Size([1, 64, 480, 272])\n",
      "torch.Size([1, 32, 960, 544])\n",
      "torch.Size([1, 3, 1920, 1088])\n"
     ]
    }
   ],
   "execution_count": 127
  }
 ],
 "metadata": {
  "kernelspec": {
   "display_name": "Python 3",
   "language": "python",
   "name": "python3"
  },
  "language_info": {
   "codemirror_mode": {
    "name": "ipython",
    "version": 2
   },
   "file_extension": ".py",
   "mimetype": "text/x-python",
   "name": "python",
   "nbconvert_exporter": "python",
   "pygments_lexer": "ipython2",
   "version": "2.7.6"
  }
 },
 "nbformat": 4,
 "nbformat_minor": 5
}
