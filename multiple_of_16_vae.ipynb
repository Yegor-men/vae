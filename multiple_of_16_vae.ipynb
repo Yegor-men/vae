{
 "cells": [
  {
   "metadata": {},
   "cell_type": "code",
   "source": [
    "import torch\n",
    "from jupyter_core.migrate import security_file\n",
    "from torch import nn\n",
    "\n",
    "device = torch.device(\"cuda\" if torch.cuda.is_available() else \"cpu\")"
   ],
   "id": "3aa70ae96b014591",
   "outputs": [],
   "execution_count": null
  },
  {
   "metadata": {},
   "cell_type": "code",
   "source": [
    "class Encoder(nn.Module):\n",
    "    def __init__(self, hidden_channels):\n",
    "        super().__init__()\n",
    "\n",
    "        self.lrelu = nn.LeakyReLU()\n",
    "\n",
    "        self.block1 = nn.Sequential(\n",
    "            nn.Conv2d(in_channels=3, out_channels=32, kernel_size=4, stride=2, padding=1),\n",
    "            self.lrelu,\n",
    "        )\n",
    "        self.block2 = nn.Sequential(\n",
    "            nn.Conv2d(in_channels=32, out_channels=64, kernel_size=4, stride=2, padding=1),\n",
    "            self.lrelu,\n",
    "        )\n",
    "        self.block3 = nn.Sequential(\n",
    "            nn.Conv2d(in_channels=64, out_channels=128, kernel_size=2, stride=2, padding=0),\n",
    "            self.lrelu,\n",
    "        )\n",
    "        self.block4 = nn.Sequential(\n",
    "            nn.Conv2d(in_channels=128, out_channels=256, kernel_size=2, stride=2, padding=0),\n",
    "            self.lrelu,\n",
    "        )\n",
    "        self.block5 = nn.Sequential(\n",
    "            nn.Conv2d(in_channels=256, out_channels=hidden_channels, kernel_size=1, stride=1, padding=0)\n",
    "        )\n",
    "\n",
    "    def forward(self, x:torch.Tensor) -> torch.Tensor:\n",
    "        x = self.block1(x)\n",
    "        print(f\"{x.size()}\")\n",
    "        x = self.block2(x)\n",
    "        print(f\"{x.size()}\")\n",
    "        x = self.block3(x)\n",
    "        print(f\"{x.size()}\")\n",
    "        x = self.block4(x)\n",
    "        print(f\"{x.size()}\")\n",
    "        x = self.block5(x)\n",
    "        print(f\"{x.size()}\", end=\"\\n\\n\")\n",
    "        return x"
   ],
   "id": "3288c77c7c8953c4",
   "outputs": [],
   "execution_count": null
  },
  {
   "metadata": {},
   "cell_type": "code",
   "source": [
    "class Decoder(nn.Module):\n",
    "    def __init__(self, hidden_channels):\n",
    "        super().__init__()\n",
    "\n",
    "        self.lrelu = nn.LeakyReLU()\n",
    "\n",
    "        self.block1 = nn.Sequential(\n",
    "            nn.ConvTranspose2d(in_channels=hidden_channels, out_channels=256, kernel_size=1, stride=1, padding=0),\n",
    "            self.lrelu,\n",
    "        )\n",
    "        self.block2 = nn.Sequential(\n",
    "            nn.ConvTranspose2d(in_channels=256, out_channels=128, kernel_size=2, stride=2, padding=0),\n",
    "            self.lrelu,\n",
    "        )\n",
    "        self.block3 = nn.Sequential(\n",
    "            nn.ConvTranspose2d(in_channels=128, out_channels=64, kernel_size=2, stride=2, padding=0),\n",
    "            self.lrelu,\n",
    "        )\n",
    "        self.block4 = nn.Sequential(\n",
    "            nn.ConvTranspose2d(in_channels=64, out_channels=32, kernel_size=4, stride=2, padding=1),\n",
    "            self.lrelu,\n",
    "        )\n",
    "        self.block5 = nn.Sequential(\n",
    "            nn.ConvTranspose2d(in_channels=32, out_channels=3, kernel_size=4, stride=2, padding=1),\n",
    "        )\n",
    "\n",
    "    def forward(self, x):\n",
    "        x = self.block1(x)\n",
    "        print(f\"{x.size()}\")\n",
    "        x = self.block2(x)\n",
    "        print(f\"{x.size()}\")\n",
    "        x = self.block3(x)\n",
    "        print(f\"{x.size()}\")\n",
    "        x = self.block4(x)\n",
    "        print(f\"{x.size()}\")\n",
    "        x = self.block5(x)\n",
    "        print(f\"{x.size()}\")\n",
    "        return x"
   ],
   "id": "c1b55ff80e3b6ecf",
   "outputs": [],
   "execution_count": null
  },
  {
   "metadata": {},
   "cell_type": "code",
   "source": [
    "class VAE(nn.Module):\n",
    "    def __init__(self, hidden_channels:int) -> None:\n",
    "        super().__init__()\n",
    "        self.encode = Encoder(hidden_channels)\n",
    "        self.decode = Decoder(hidden_channels)\n",
    "\n",
    "    def forward(self, x:torch.Tensor) -> torch.Tensor:\n",
    "        x = self.encode(x)\n",
    "        x = self.decode(x)\n",
    "        return x"
   ],
   "id": "e0e00c9497cce7d5",
   "outputs": [],
   "execution_count": null
  },
  {
   "metadata": {},
   "cell_type": "code",
   "source": [
    "c, h, w = 3, 512, 512\n",
    "test_tensor = torch.randn(c, h, w)\n",
    "hidden_num_channels = 16\n",
    "encoder = Encoder(hidden_num_channels)\n",
    "lat_space = encoder(test_tensor)\n",
    "before, after = c*h*w, hidden_num_channels*(h/16)*(w/16)\n",
    "print(f\"Number of pixels before: {before:,} | Number of pixels after: {after:,} | reduction amount: {before/after}\")"
   ],
   "id": "db94e425fa265a88",
   "outputs": [],
   "execution_count": null
  },
  {
   "metadata": {},
   "cell_type": "code",
   "source": [
    "model = VAE(hidden_num_channels)\n",
    "encdec = model(test_tensor)"
   ],
   "id": "adb64a380c69ddd0",
   "outputs": [],
   "execution_count": null
  }
 ],
 "metadata": {
  "kernelspec": {
   "display_name": "Python 3",
   "language": "python",
   "name": "python3"
  },
  "language_info": {
   "codemirror_mode": {
    "name": "ipython",
    "version": 2
   },
   "file_extension": ".py",
   "mimetype": "text/x-python",
   "name": "python",
   "nbconvert_exporter": "python",
   "pygments_lexer": "ipython2",
   "version": "2.7.6"
  }
 },
 "nbformat": 4,
 "nbformat_minor": 5
}
